{
 "cells": [
  {
   "cell_type": "markdown",
   "metadata": {},
   "source": [
    "# Tarea\n",
    "\n",
    "> Módulo de un objeto \"Tarea\""
   ]
  },
  {
   "cell_type": "code",
   "execution_count": 10,
   "metadata": {},
   "outputs": [],
   "source": [
    "#| default_exp tarea"
   ]
  },
  {
   "cell_type": "code",
   "execution_count": 12,
   "metadata": {},
   "outputs": [],
   "source": [
    "#| hide\n",
    "from nbdev.showdoc import *\n",
    "from fastcore.test import *\n",
    "from fastcore.basics import *"
   ]
  },
  {
   "cell_type": "code",
   "execution_count": 13,
   "metadata": {},
   "outputs": [],
   "source": [
    "#| export\n",
    "class Tarea:\n",
    "    \"Crea una tarea con un título, una descripción, un estado (completado o no completado) y una fecha de entrega\"\n",
    "    def __init__(self, \n",
    "                 titulo:str, # Título de la tarea\n",
    "                 fecha_entrega:str, # Fecha de entrega en formato dd/mm/aaaa. De no estar escrito así, marcará error\n",
    "                 completado:bool=False, # Indica si ya se entregó o no\n",
    "                 descripcion:str='' # Información adicional sobre la tarea\n",
    "                 ) -> None:\n",
    "        self.titulo = titulo\n",
    "        self.descripcion = descripcion\n",
    "        self.fecha_entrega = fecha_entrega\n",
    "        self.completado = completado\n",
    "    def __str__(self) -> str:\n",
    "        \"Regresa la informacion completa sobre la tarea\"\n",
    "        return f\"Tarea: {self.titulo}. \\nDescripción: {self.descripcion}. \\nFecha de entrega: {self.fecha_entrega}. \\nCompletado: {self.completado}\"\n",
    "    __repr__ = __str__ \n",
    "    def tarea_completada(self) -> None:\n",
    "        \"Cambia el atributo 'completado' a True\"\n",
    "        self.completado = True"
   ]
  },
  {
   "cell_type": "code",
   "execution_count": 14,
   "metadata": {},
   "outputs": [
    {
     "data": {
      "text/markdown": [
       "---\n",
       "\n",
       "[source](https://github.com/Palazrak/nbdev_ejemplo/blob/main/nbdev_ejemplo/tarea.py#L7){target=\"_blank\" style=\"float:right; font-size:smaller\"}\n",
       "\n",
       "### Tarea\n",
       "\n",
       ">      Tarea (titulo:str, fecha_entrega:str, completado:bool=False,\n",
       ">             descripcion:str='')\n",
       "\n",
       "Crea una tarea con un título, una descripción, un estado (completado o no completado) y una fecha de entrega\n",
       "\n",
       "|    | **Type** | **Default** | **Details** |\n",
       "| -- | -------- | ----------- | ----------- |\n",
       "| titulo | str |  | Título de la tarea |\n",
       "| fecha_entrega | str |  | Fecha de entrega en formato dd/mm/aaaa. De no estar escrito así, marcará error |\n",
       "| completado | bool | False | Indica si ya se entregó o no |\n",
       "| descripcion | str |  | Información adicional sobre la tarea |\n",
       "| **Returns** | **None** |  |  |"
      ],
      "text/plain": [
       "---\n",
       "\n",
       "[source](https://github.com/Palazrak/nbdev_ejemplo/blob/main/nbdev_ejemplo/tarea.py#L7){target=\"_blank\" style=\"float:right; font-size:smaller\"}\n",
       "\n",
       "### Tarea\n",
       "\n",
       ">      Tarea (titulo:str, fecha_entrega:str, completado:bool=False,\n",
       ">             descripcion:str='')\n",
       "\n",
       "Crea una tarea con un título, una descripción, un estado (completado o no completado) y una fecha de entrega\n",
       "\n",
       "|    | **Type** | **Default** | **Details** |\n",
       "| -- | -------- | ----------- | ----------- |\n",
       "| titulo | str |  | Título de la tarea |\n",
       "| fecha_entrega | str |  | Fecha de entrega en formato dd/mm/aaaa. De no estar escrito así, marcará error |\n",
       "| completado | bool | False | Indica si ya se entregó o no |\n",
       "| descripcion | str |  | Información adicional sobre la tarea |\n",
       "| **Returns** | **None** |  |  |"
      ]
     },
     "execution_count": 14,
     "metadata": {},
     "output_type": "execute_result"
    }
   ],
   "source": [
    "show_doc(Tarea)"
   ]
  },
  {
   "cell_type": "code",
   "execution_count": 15,
   "metadata": {},
   "outputs": [
    {
     "data": {
      "text/markdown": [
       "---\n",
       "\n",
       "[source](https://github.com/Palazrak/nbdev_ejemplo/blob/main/nbdev_ejemplo/tarea.py#L23){target=\"_blank\" style=\"float:right; font-size:smaller\"}\n",
       "\n",
       "### Tarea.tarea_completada\n",
       "\n",
       ">      Tarea.tarea_completada ()\n",
       "\n",
       "Cambia el atributo 'completado' a True"
      ],
      "text/plain": [
       "---\n",
       "\n",
       "[source](https://github.com/Palazrak/nbdev_ejemplo/blob/main/nbdev_ejemplo/tarea.py#L23){target=\"_blank\" style=\"float:right; font-size:smaller\"}\n",
       "\n",
       "### Tarea.tarea_completada\n",
       "\n",
       ">      Tarea.tarea_completada ()\n",
       "\n",
       "Cambia el atributo 'completado' a True"
      ]
     },
     "execution_count": 15,
     "metadata": {},
     "output_type": "execute_result"
    }
   ],
   "source": [
    "show_doc(Tarea.tarea_completada)"
   ]
  },
  {
   "cell_type": "code",
   "execution_count": 16,
   "metadata": {},
   "outputs": [],
   "source": [
    "#| hide\n",
    "import nbdev; nbdev.nbdev_export()"
   ]
  }
 ],
 "metadata": {
  "kernelspec": {
   "display_name": "python3",
   "language": "python",
   "name": "python3"
  },
  "language_info": {
   "codemirror_mode": {
    "name": "ipython",
    "version": 3
   },
   "file_extension": ".py",
   "mimetype": "text/x-python",
   "name": "python",
   "nbconvert_exporter": "python",
   "pygments_lexer": "ipython3",
   "version": "3.11.0"
  }
 },
 "nbformat": 4,
 "nbformat_minor": 4
}
