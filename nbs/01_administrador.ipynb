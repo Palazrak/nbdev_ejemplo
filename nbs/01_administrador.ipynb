{
 "cells": [
  {
   "cell_type": "markdown",
   "metadata": {},
   "source": [
    "# Administrador\n",
    "\n",
    "> Lista de tareas para manejar tus pendientes"
   ]
  },
  {
   "cell_type": "code",
   "execution_count": 1,
   "metadata": {},
   "outputs": [],
   "source": [
    "#| default_exp administrador"
   ]
  },
  {
   "cell_type": "code",
   "execution_count": 3,
   "metadata": {},
   "outputs": [],
   "source": [
    "#| hide\n",
    "from nbdev.showdoc import *\n",
    "from fastcore.test import *\n",
    "from fastcore.basics import *\n",
    "from nbdev_ejemplo.tarea import *\n",
    "from bisect import insort"
   ]
  },
  {
   "cell_type": "code",
   "execution_count": 20,
   "metadata": {},
   "outputs": [],
   "source": [
    "#| export\n",
    "class Administrador:\n",
    "    \"Crea un administrador de tareas\"\n",
    "    def __init__(self) -> None:\n",
    "        self.lista_tareas = []\n",
    "    def agrega_tarea(self, \n",
    "                 titulo:str, # Título de la tarea\n",
    "                 fecha_entrega:str, # Fecha de entrega en formato dd/mm/aaaa. De no estar escrito así, marcará error\n",
    "                 completado:bool=False, # Indica si ya se entregó o no\n",
    "                 descripcion:str='' # Información adicional sobre la tarea\n",
    "                 ) -> bool: #Regresa si la tarea se agregó exitosamente o no\n",
    "        \"Crea una tarea, la agrega a la lista y la ordena con base en la fecha de entrega\"\n",
    "        tarea = Tarea(titulo, fecha_entrega, completado, descripcion)\n",
    "        insort(self.lista_tareas, tarea)\n",
    "    def imprime_completo(self) -> str:\n",
    "        \"Imprime todas las tareas en la lista\"\n",
    "        for tarea in self.lista_tareas:\n",
    "            print(tarea)\n",
    "    def imprime_faltantes(self) -> str:\n",
    "        \"Regresa las tareas que no han sido completadas\"\n",
    "        for tarea in self.lista_tareas:\n",
    "            if tarea.completada == False:\n",
    "                print(tarea)\n",
    "    __repr__ = imprime_completo\n",
    "    def tarea_completada(self, \n",
    "                         titulo:str # Título de la tarea que se busca\n",
    "                         )-> bool: # Regresa True si la tarea estaba en la lista y la marcó como completada\n",
    "        \"Busca una tarea por su nombre y la marca como completado\"\n",
    "        for tarea in self.lista_tareas:\n",
    "            if tarea.titulo == titulo:\n",
    "                tarea.completado = True\n",
    "                return True\n",
    "        return False"
   ]
  },
  {
   "cell_type": "code",
   "execution_count": 14,
   "metadata": {},
   "outputs": [
    {
     "data": {
      "text/markdown": [
       "---\n",
       "\n",
       "### Administrador\n",
       "\n",
       ">      Administrador ()\n",
       "\n",
       "Crea un administrador de tareas"
      ],
      "text/plain": [
       "---\n",
       "\n",
       "### Administrador\n",
       "\n",
       ">      Administrador ()\n",
       "\n",
       "Crea un administrador de tareas"
      ]
     },
     "execution_count": 14,
     "metadata": {},
     "output_type": "execute_result"
    }
   ],
   "source": [
    "show_doc(Administrador)"
   ]
  },
  {
   "cell_type": "code",
   "execution_count": 8,
   "metadata": {},
   "outputs": [
    {
     "data": {
      "text/markdown": [
       "---\n",
       "\n",
       "### Administrador.agrega_tarea\n",
       "\n",
       ">      Administrador.agrega_tarea (titulo:str, fecha_entrega:str,\n",
       ">                                  completado:bool=False, descripcion:str='')\n",
       "\n",
       "Crea una tarea, la agrega a la lista y la ordena con base en la fecha de entrega\n",
       "\n",
       "|    | **Type** | **Default** | **Details** |\n",
       "| -- | -------- | ----------- | ----------- |\n",
       "| titulo | str |  | Título de la tarea |\n",
       "| fecha_entrega | str |  | Fecha de entrega en formato dd/mm/aaaa. De no estar escrito así, marcará error |\n",
       "| completado | bool | False | Indica si ya se entregó o no |\n",
       "| descripcion | str |  | Información adicional sobre la tarea |\n",
       "| **Returns** | **bool** |  | **Regresa si la tarea se agregó exitosamente o no** |"
      ],
      "text/plain": [
       "---\n",
       "\n",
       "### Administrador.agrega_tarea\n",
       "\n",
       ">      Administrador.agrega_tarea (titulo:str, fecha_entrega:str,\n",
       ">                                  completado:bool=False, descripcion:str='')\n",
       "\n",
       "Crea una tarea, la agrega a la lista y la ordena con base en la fecha de entrega\n",
       "\n",
       "|    | **Type** | **Default** | **Details** |\n",
       "| -- | -------- | ----------- | ----------- |\n",
       "| titulo | str |  | Título de la tarea |\n",
       "| fecha_entrega | str |  | Fecha de entrega en formato dd/mm/aaaa. De no estar escrito así, marcará error |\n",
       "| completado | bool | False | Indica si ya se entregó o no |\n",
       "| descripcion | str |  | Información adicional sobre la tarea |\n",
       "| **Returns** | **bool** |  | **Regresa si la tarea se agregó exitosamente o no** |"
      ]
     },
     "execution_count": 8,
     "metadata": {},
     "output_type": "execute_result"
    }
   ],
   "source": [
    "show_doc(Administrador.agrega_tarea)"
   ]
  },
  {
   "cell_type": "code",
   "execution_count": 15,
   "metadata": {},
   "outputs": [
    {
     "data": {
      "text/markdown": [
       "---\n",
       "\n",
       "### Administrador.tarea_completada\n",
       "\n",
       ">      Administrador.tarea_completada (titulo:str)\n",
       "\n",
       "Busca una tarea por su nombre y la marca como completado\n",
       "\n",
       "|    | **Type** | **Details** |\n",
       "| -- | -------- | ----------- |\n",
       "| titulo | str | Título de la tarea que se busca |\n",
       "| **Returns** | **bool** | **Regresa True si se ejecutó exitosamente** |"
      ],
      "text/plain": [
       "---\n",
       "\n",
       "### Administrador.tarea_completada\n",
       "\n",
       ">      Administrador.tarea_completada (titulo:str)\n",
       "\n",
       "Busca una tarea por su nombre y la marca como completado\n",
       "\n",
       "|    | **Type** | **Details** |\n",
       "| -- | -------- | ----------- |\n",
       "| titulo | str | Título de la tarea que se busca |\n",
       "| **Returns** | **bool** | **Regresa True si se ejecutó exitosamente** |"
      ]
     },
     "execution_count": 15,
     "metadata": {},
     "output_type": "execute_result"
    }
   ],
   "source": [
    "show_doc(Administrador.tarea_completada)"
   ]
  },
  {
   "cell_type": "markdown",
   "metadata": {},
   "source": [
    "# Formas de imprimir al administrador de tareas"
   ]
  },
  {
   "cell_type": "code",
   "execution_count": 21,
   "metadata": {},
   "outputs": [
    {
     "data": {
      "text/markdown": [
       "---\n",
       "\n",
       "### Administrador.imprime_completo\n",
       "\n",
       ">      Administrador.imprime_completo ()\n",
       "\n",
       "Imprime todas las tareas en la lista"
      ],
      "text/plain": [
       "---\n",
       "\n",
       "### Administrador.imprime_completo\n",
       "\n",
       ">      Administrador.imprime_completo ()\n",
       "\n",
       "Imprime todas las tareas en la lista"
      ]
     },
     "execution_count": 21,
     "metadata": {},
     "output_type": "execute_result"
    }
   ],
   "source": [
    "show_doc(Administrador.imprime_completo)"
   ]
  },
  {
   "cell_type": "code",
   "execution_count": 22,
   "metadata": {},
   "outputs": [
    {
     "data": {
      "text/markdown": [
       "---\n",
       "\n",
       "### Administrador.imprime_faltantes\n",
       "\n",
       ">      Administrador.imprime_faltantes ()\n",
       "\n",
       "Regresa las tareas que no han sido completadas"
      ],
      "text/plain": [
       "---\n",
       "\n",
       "### Administrador.imprime_faltantes\n",
       "\n",
       ">      Administrador.imprime_faltantes ()\n",
       "\n",
       "Regresa las tareas que no han sido completadas"
      ]
     },
     "execution_count": 22,
     "metadata": {},
     "output_type": "execute_result"
    }
   ],
   "source": [
    "show_doc(Administrador.imprime_faltantes)"
   ]
  },
  {
   "cell_type": "code",
   "execution_count": 24,
   "metadata": {},
   "outputs": [],
   "source": [
    "#| hide\n",
    "import nbdev; nbdev.nbdev_export()"
   ]
  }
 ],
 "metadata": {
  "kernelspec": {
   "display_name": "python3",
   "language": "python",
   "name": "python3"
  },
  "language_info": {
   "codemirror_mode": {
    "name": "ipython",
    "version": 3
   },
   "file_extension": ".py",
   "mimetype": "text/x-python",
   "name": "python",
   "nbconvert_exporter": "python",
   "pygments_lexer": "ipython3",
   "version": "3.11.0"
  }
 },
 "nbformat": 4,
 "nbformat_minor": 4
}
